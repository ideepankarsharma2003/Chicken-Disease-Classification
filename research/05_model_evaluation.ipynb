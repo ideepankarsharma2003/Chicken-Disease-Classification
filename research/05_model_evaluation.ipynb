{
 "cells": [
  {
   "cell_type": "code",
   "execution_count": 1,
   "metadata": {},
   "outputs": [
    {
     "data": {
      "text/plain": [
       "'/home/lucky/Chicken-Disease-Classification'"
      ]
     },
     "execution_count": 1,
     "metadata": {},
     "output_type": "execute_result"
    }
   ],
   "source": [
    "import os\n",
    "os.chdir('..')\n",
    "%pwd"
   ]
  },
  {
   "cell_type": "code",
   "execution_count": 2,
   "metadata": {},
   "outputs": [
    {
     "name": "stderr",
     "output_type": "stream",
     "text": [
      "2023-08-26 18:57:16.723825: I tensorflow/tsl/cuda/cudart_stub.cc:28] Could not find cuda drivers on your machine, GPU will not be used.\n",
      "2023-08-26 18:57:16.750683: I tensorflow/tsl/cuda/cudart_stub.cc:28] Could not find cuda drivers on your machine, GPU will not be used.\n",
      "2023-08-26 18:57:16.751631: I tensorflow/core/platform/cpu_feature_guard.cc:182] This TensorFlow binary is optimized to use available CPU instructions in performance-critical operations.\n",
      "To enable the following instructions: AVX2 FMA, in other operations, rebuild TensorFlow with the appropriate compiler flags.\n",
      "2023-08-26 18:57:17.295878: W tensorflow/compiler/tf2tensorrt/utils/py_utils.cc:38] TF-TRT Warning: Could not find TensorRT\n"
     ]
    }
   ],
   "source": [
    "import tensorflow as tf"
   ]
  },
  {
   "cell_type": "code",
   "execution_count": 3,
   "metadata": {},
   "outputs": [
    {
     "name": "stderr",
     "output_type": "stream",
     "text": [
      "2023-08-26 18:57:18.179432: I tensorflow/compiler/xla/stream_executor/cuda/cuda_gpu_executor.cc:981] could not open file to read NUMA node: /sys/bus/pci/devices/0000:01:00.0/numa_node\n",
      "Your kernel may have been built without NUMA support.\n",
      "2023-08-26 18:57:18.207397: W tensorflow/core/common_runtime/gpu/gpu_device.cc:1960] Cannot dlopen some GPU libraries. Please make sure the missing libraries mentioned above are installed properly if you would like to use GPU. Follow the guide at https://www.tensorflow.org/install/gpu for how to download and setup the required libraries for your platform.\n",
      "Skipping registering GPU devices...\n"
     ]
    }
   ],
   "source": [
    "model= tf.keras.models.load_model(\"artifacts/training/model.h5\")"
   ]
  },
  {
   "cell_type": "code",
   "execution_count": 4,
   "metadata": {},
   "outputs": [],
   "source": [
    "from dataclasses import dataclass \n",
    "from pathlib import  Path\n",
    "\n",
    "\n",
    "@dataclass(frozen= True)\n",
    "class EvaluationConfig:\n",
    "    path: Path\n",
    "    training_data: Path \n",
    "    all_parameters: Path\n",
    "    params_image_size: list\n",
    "    params_batch_size: int"
   ]
  },
  {
   "cell_type": "code",
   "execution_count": 5,
   "metadata": {},
   "outputs": [],
   "source": [
    "from ChickenDiseaseClassifier.constants import  *\n",
    "from ChickenDiseaseClassifier.utils.common import  read_yaml, create_directories, save_json\n",
    "from ChickenDiseaseClassifier.entity.config_entity import *"
   ]
  },
  {
   "cell_type": "code",
   "execution_count": 6,
   "metadata": {},
   "outputs": [],
   "source": [
    "class ConfigurationManager:\n",
    "    def __init__(\n",
    "            self,\n",
    "            config_file_path= CONFIG_FILE_PATH,\n",
    "            params_file_path= PARAMS_FILE_PATH\n",
    "            ):\n",
    "\n",
    "\n",
    "        print(f\"Loading configuration from {config_file_path}\")\n",
    "        print(f\"Loading parameters from {params_file_path}\")\n",
    "\n",
    "        self.config= read_yaml(config_file_path)\n",
    "        self.params= read_yaml(params_file_path)\n",
    "\n",
    "        create_directories([self.config.artifacts_root])\n",
    "\n",
    "\n",
    "\n",
    "\n",
    "\n",
    "    # data ingestion configuration \n",
    "    def get_data_ingestion_config(self) -> DataIngestionConfig:\n",
    "        config= self.config.data_ingestion\n",
    "\n",
    "        create_directories([config.data_ingestion_root])\n",
    "\n",
    "        data_ingestion_config= DataIngestionConfig(\n",
    "            root_dir= config.data_ingestion_root,\n",
    "            source_url=config.source_url,\n",
    "            local_data_file =config.local_data_file,\n",
    "            unzip_dir =config.unzip_dir,\n",
    "        )\n",
    "        return data_ingestion_config\n",
    "\n",
    "\n",
    "    # prepare model configuration \n",
    "    def get_prepare_model_config(self) -> PrepareBaseModelConfig:\n",
    "        config= self.config.prepare_base_model\n",
    "        create_directories([config.prepare_base_model_root])\n",
    "\n",
    "        prepare_base_model_config= PrepareBaseModelConfig(\n",
    "            root_dir= Path(config.prepare_base_model_root),\n",
    "            base_model_path= Path(config.base_model_path),\n",
    "            updated_base_model_path= Path(config.updated_base_model_path),\n",
    "            params_image_size=self.params.IMAGE_SIZE,\n",
    "            # params_batch_size=self.params.BATCH_SIZE,\n",
    "            params_include_top=self.params.INCLUDE_TOP,\n",
    "            # params_epochs=self.params.EPOCHS,\n",
    "            params_classes=self.params.CLASSES,\n",
    "            params_weights=self.params.WEIGHTS,\n",
    "            params_learning_rate=self.params.LEARNING_RATE, \n",
    "\n",
    "        )\n",
    "        return prepare_base_model_config\n",
    "\n",
    "\n",
    "\n",
    "\n",
    "    # prepare callbacks config\n",
    "    def get_prepare_callbacks_config(self) -> PrepareCallbacksConfig:\n",
    "        config= self.config.prepare_callbacks\n",
    "        model_ckpt_dir= os.path.dirname(config.checkpoint_model_filepath)\n",
    "        create_directories([\n",
    "            Path(model_ckpt_dir),\n",
    "            Path(config.tensorboard_root_log_dir),\n",
    "            ])\n",
    "        \n",
    "        prepare_callbacks_config= PrepareCallbacksConfig(\n",
    "            root_dir= Path(config.prepare_callbacks_root),\n",
    "            checkpoint_model_filepath= Path(config.checkpoint_model_filepath),\n",
    "            tensorboard_root_log_dir= Path(config.tensorboard_root_log_dir)\n",
    "        )\n",
    "        return prepare_callbacks_config\n",
    "    \n",
    "\n",
    "    # model trainer config\n",
    "    def get_training_config(self):\n",
    "        training= self.config.training\n",
    "        prepare_base_model= self.config.prepare_base_model\n",
    "        params= self.params\n",
    "        training_data= os.path.join(\n",
    "            self.config.data_ingestion.unzip_dir, 'Chicken-fecal-images'\n",
    "        )\n",
    "        create_directories([\n",
    "            Path(training.root_dir)\n",
    "        ])\n",
    "\n",
    "        training_config= TrainingConfig(\n",
    "            root_dir= Path(training.root_dir),\n",
    "            trained_model_path= Path(training.trained_model_path),\n",
    "            training_data= Path(training_data),\n",
    "            updated_model_path= Path(prepare_base_model.updated_base_model_path),\n",
    "            params_image_size=params.IMAGE_SIZE,\n",
    "            params_batch_size=params.BATCH_SIZE,\n",
    "            params_epochs= params.EPOCHS,\n",
    "            params_is_augmentation=params.AUGUMENTATION,\n",
    "        )\n",
    "\n",
    "        return training_config\n",
    "    \n",
    "\n",
    "\n",
    "    # evaluation config\n",
    "    def get_evaluation_config(self) -> EvaluationConfig:\n",
    "        eval_config= EvaluationConfig(\n",
    "            path= Path(\"artifacts/training/model.h5\"),\n",
    "            training_data= Path(\"artifacts/data_ingestion/Chicken-fecal-images/\"),\n",
    "            all_parameters= self.params,\n",
    "            params_image_size= self.params.IMAGE_SIZE,\n",
    "            params_batch_size= self.params.BATCH_SIZE,\n",
    "            \n",
    "        )\n",
    "        return eval_config\n",
    "        \n",
    "\n"
   ]
  },
  {
   "cell_type": "code",
   "execution_count": 7,
   "metadata": {},
   "outputs": [],
   "source": [
    "from urllib.parse import  urlparse"
   ]
  },
  {
   "cell_type": "code",
   "execution_count": 8,
   "metadata": {},
   "outputs": [],
   "source": [
    "class Evaluation:\n",
    "    def __init__(self, config: EvaluationConfig):\n",
    "        self.config= config\n",
    "    \n",
    "\n",
    "    def _valid_generator(self):\n",
    "        datagenerator_kwargs= dict(\n",
    "            rescale= 1/255,\n",
    "            validation_split= 0.2,\n",
    "            # batch_size= self.config.batch_size\n",
    "        )\n",
    "\n",
    "        dataflow_kwargs= dict(\n",
    "            target_size= self.config.params_image_size[:-1],\n",
    "            batch_size= self.config.params_batch_size,\n",
    "            interpolation= 'bilinear'\n",
    "        )\n",
    "\n",
    "        valid_datagenerator= tf.keras.preprocessing.image.ImageDataGenerator(\n",
    "            **datagenerator_kwargs\n",
    "        )\n",
    "\n",
    "        self.valid_generator= valid_datagenerator.flow_from_directory(\n",
    "            directory= self.config.training_data,\n",
    "            subset= 'validation',\n",
    "            shuffle=False,\n",
    "            **dataflow_kwargs\n",
    "        )\n",
    "\n",
    "\n",
    "    @staticmethod\n",
    "    def load_model(path: Path)-> tf.keras.Model:\n",
    "        return tf.keras.models.load_model(path)\n",
    "\n",
    "    def evaluation(self):\n",
    "        self.model= self.load_model(self.config.path)\n",
    "        self._valid_generator()\n",
    "        self.score= self.model.evaluate(self.valid_generator)\n",
    "\n",
    "    def save_score(self):\n",
    "        scores= {\n",
    "            'loss': self.score[0],\n",
    "            'accuracy': self.score[1]\n",
    "        }\n",
    "        save_json(path= Path(\"scores.json\"), data=scores)"
   ]
  },
  {
   "cell_type": "code",
   "execution_count": 9,
   "metadata": {},
   "outputs": [
    {
     "name": "stdout",
     "output_type": "stream",
     "text": [
      "Loading configuration from config/config.yaml\n",
      "Loading parameters from params.yaml\n",
      "[2023-08-26 18:57:18,660: INFO: common: yaml file: config/config.yaml loaded successfully]\n",
      "[2023-08-26 18:57:18,662: INFO: common: yaml file: params.yaml loaded successfully]\n",
      "[2023-08-26 18:57:18,663: INFO: common: created directory at: artifacts]\n",
      "Found 78 images belonging to 2 classes.\n"
     ]
    },
    {
     "name": "stderr",
     "output_type": "stream",
     "text": [
      "2023-08-26 18:57:19.464711: W tensorflow/tsl/framework/cpu_allocator_impl.cc:83] Allocation of 411041792 exceeds 10% of free system memory.\n",
      "2023-08-26 18:57:19.740840: W tensorflow/tsl/framework/cpu_allocator_impl.cc:83] Allocation of 411041792 exceeds 10% of free system memory.\n",
      "2023-08-26 18:57:20.321344: W tensorflow/tsl/framework/cpu_allocator_impl.cc:83] Allocation of 102760448 exceeds 10% of free system memory.\n",
      "2023-08-26 18:57:20.389045: W tensorflow/tsl/framework/cpu_allocator_impl.cc:83] Allocation of 205520896 exceeds 10% of free system memory.\n",
      "2023-08-26 18:57:20.521707: W tensorflow/tsl/framework/cpu_allocator_impl.cc:83] Allocation of 205520896 exceeds 10% of free system memory.\n"
     ]
    },
    {
     "name": "stdout",
     "output_type": "stream",
     "text": [
      "3/3 [==============================] - 7s 2s/step - loss: 0.5567 - accuracy: 0.9615\n",
      "[2023-08-26 18:57:25,756: INFO: common: json file saved at: scores.json]\n"
     ]
    }
   ],
   "source": [
    "try:\n",
    "    config= ConfigurationManager()\n",
    "    eval_config= config.get_evaluation_config()\n",
    "    evaluation= Evaluation(eval_config)\n",
    "    evaluation.evaluation()\n",
    "    evaluation.save_score()\n",
    "\n",
    "\n",
    "except Exception as e:\n",
    "    raise e"
   ]
  },
  {
   "cell_type": "code",
   "execution_count": 11,
   "metadata": {},
   "outputs": [],
   "source": [
    "# EvaluationConfig.path"
   ]
  },
  {
   "cell_type": "code",
   "execution_count": null,
   "metadata": {},
   "outputs": [],
   "source": []
  }
 ],
 "metadata": {
  "kernelspec": {
   "display_name": "venv",
   "language": "python",
   "name": "python3"
  },
  "language_info": {
   "codemirror_mode": {
    "name": "ipython",
    "version": 3
   },
   "file_extension": ".py",
   "mimetype": "text/x-python",
   "name": "python",
   "nbconvert_exporter": "python",
   "pygments_lexer": "ipython3",
   "version": "3.10.12"
  },
  "orig_nbformat": 4
 },
 "nbformat": 4,
 "nbformat_minor": 2
}
